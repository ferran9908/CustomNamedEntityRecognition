{
 "cells": [
  {
   "cell_type": "code",
   "execution_count": 3,
   "metadata": {},
   "outputs": [
    {
     "name": "stdout",
     "output_type": "stream",
     "text": [
      "Curated.txt                          dataset.txt\r\n",
      "README.md                            diseaseList.txt\r\n",
      "SpacyNoteBook.ipynb                  diseases.txt\r\n",
      "SpacyNotebook - Implementation.ipynb medList.txt\r\n",
      "Untitled.ipynb                       medicines - 1.txt\r\n",
      "Untitled1.ipynb                      medicines.txt\r\n",
      "Untitled2.ipynb                      \u001b[1m\u001b[36mmodelTrained\u001b[m\u001b[m\r\n",
      "curatedSymptoms.txt                  modelTrained.zip\r\n",
      "data.txt                             trainedModel.zip\r\n"
     ]
    }
   ],
   "source": [
    "!ls"
   ]
  },
  {
   "cell_type": "code",
   "execution_count": 4,
   "metadata": {},
   "outputs": [],
   "source": [
    "symptomList = []\n",
    "with open('curatedSymptoms.txt','r') as fileObj:\n",
    "    for line in fileObj:\n",
    "        symptomList.append(line[:-1])"
   ]
  },
  {
   "cell_type": "code",
   "execution_count": 8,
   "metadata": {},
   "outputs": [],
   "source": [
    "for i in range(len(symptomList)):\n",
    "    symptomList[i] = symptomList[i].lower()"
   ]
  },
  {
   "cell_type": "code",
   "execution_count": 9,
   "metadata": {},
   "outputs": [
    {
     "data": {
      "text/plain": [
       "['cold',\n",
       " 'high temperature',\n",
       " 'vomiting',\n",
       " 'dizziness',\n",
       " 'bleeding',\n",
       " 'coughing',\n",
       " 'coughing blood',\n",
       " 'nosebleed',\n",
       " 'earbleed',\n",
       " 'headache',\n",
       " 'nausea',\n",
       " 'blood vomit',\n",
       " 'body pain',\n",
       " 'muscle cramps',\n",
       " 'hairfall',\n",
       " 'rashes',\n",
       " 'redness',\n",
       " 'loss of vision',\n",
       " 'heavy breathing',\n",
       " 'difficulty in breathing',\n",
       " 'constipation',\n",
       " 'loose motion',\n",
       " 'dysentry',\n",
       " 'swelling',\n",
       " 'discharge',\n",
       " 'boils',\n",
       " 'pus',\n",
       " 'flaking of skin',\n",
       " 'dryness in throat',\n",
       " 'sore throat',\n",
       " 'difficulty swallowing',\n",
       " 'hives',\n",
       " 'toothache',\n",
       " 'gum pain',\n",
       " 'swelling of tongue',\n",
       " 'redness of the eye',\n",
       " 'itching of eye',\n",
       " 'itching',\n",
       " 'shivering',\n",
       " 'backache',\n",
       " 'shaking',\n",
       " 'pins and needles',\n",
       " 'loss of hearing',\n",
       " 'tinnitus',\n",
       " 'hearing loss',\n",
       " 'slurred speech',\n",
       " 'fits',\n",
       " 'frequent urination',\n",
       " 'drowsiness',\n",
       " 'fidgeting',\n",
       " 'muscle stiffness',\n",
       " 'cramp']"
      ]
     },
     "execution_count": 9,
     "metadata": {},
     "output_type": "execute_result"
    }
   ],
   "source": [
    "symptomList"
   ]
  },
  {
   "cell_type": "code",
   "execution_count": null,
   "metadata": {},
   "outputs": [],
   "source": [
    "with open('symptoms.txt','w') as fileObj:\n",
    "    for symptom in symptomList:\n",
    "        fileObj.write('the patient has the following symptoms. '+symptom+'\\n')\n",
    "        fileObj.write('the patient arrived with ' + symptom+'\\n')\n",
    "        fileObj.write('the patient arrived with ' + symptom + ' as symptoms\\n')\n",
    "        fileObj.write('the patient is exhibiting '+symptom+' which are indicative of cancer\\n')\n",
    "        fileObj.write('exhibitance of ' + symptom + ' is observed which suggests yellow fever\\n')"
   ]
  }
 ],
 "metadata": {
  "kernelspec": {
   "display_name": "Python 3",
   "language": "python",
   "name": "python3"
  },
  "language_info": {
   "codemirror_mode": {
    "name": "ipython",
    "version": 3
   },
   "file_extension": ".py",
   "mimetype": "text/x-python",
   "name": "python",
   "nbconvert_exporter": "python",
   "pygments_lexer": "ipython3",
   "version": "3.7.6"
  }
 },
 "nbformat": 4,
 "nbformat_minor": 2
}
